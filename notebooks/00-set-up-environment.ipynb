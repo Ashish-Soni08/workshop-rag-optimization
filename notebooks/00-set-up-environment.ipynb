{
 "cells": [
  {
   "cell_type": "markdown",
   "source": [
    "# Setting up the environment\n",
    "\n",
    "During the workshop, we will use LlamaIndex to build a RAG system, with Qdrant acting as the vector store. We can skip the indexing process, and simply start with a pre-built index, imported from a snapshot. However, before we start doing the actual work, we will review the underlying data and get familiar with it.\n",
    "\n",
    "## Prerequisites\n",
    "\n",
    "As usual, building up RAG requires a few components:\n",
    "\n",
    "- **Qdrant instance** - obviously, no RAG without Qdrant in the loop, either local or cloud version\n",
    "- **LLM** - we are going to work with OpenAI models, as they are the default of the LlamaIndex, so [please obtain an API key](https://help.openai.com/en/articles/4936850-where-do-i-find-my-openai-api-key)\n",
    "- **Embedding model** - there are plenty of models out there, but an open source [`BAAI/bge-large-en`](https://huggingface.co/BAAI/bge-large-en) is today's favorite"
   ],
   "metadata": {
    "collapsed": false
   },
   "id": "77d074b8e62858a6"
  },
  {
   "cell_type": "markdown",
   "source": [
    "## Setting up Qdrant\n",
    "\n",
    "It doesn't matter if you prefer using a local Qdrant server running in a container, or our 1GB free tier cluster. Please make sure you have a running instance on hand."
   ],
   "metadata": {
    "collapsed": false
   },
   "id": "5f9c5f7b903fcf2f"
  },
  {
   "cell_type": "markdown",
   "source": [
    "### Local Docker container\n",
    "\n",
    "If you have Docker installed on your machine, you should be able to launch an instance pretty quickly by running the following command."
   ],
   "metadata": {
    "collapsed": false
   },
   "id": "6065733650176c8d"
  },
  {
   "cell_type": "code",
   "outputs": [],
   "source": [
    "!docker run -d -p \"6333:6333\" -p \"6334:6334\" qdrant/qdrant"
   ],
   "metadata": {
    "collapsed": false
   },
   "id": "ac6874f21b4d1a6a",
   "execution_count": null
  },
  {
   "cell_type": "markdown",
   "source": [
    "### Qdrant Cloud free tier\n",
    "\n",
    "Another option is to [sign up for Qdrant Cloud](https://cloud.qdrant.io/login) and use the free tier 1GB cluster, which is available for everyone."
   ],
   "metadata": {
    "collapsed": false
   },
   "id": "cf536ce934b91c79"
  },
  {
   "cell_type": "markdown",
   "source": [
    "## Saving configuration\n",
    "\n",
    "The last thing we need to set up before the start is to store all the secrets as environmental variables in the `.env` file. There is an `.env.example` we can use as a reference."
   ],
   "metadata": {
    "collapsed": false
   },
   "id": "96aef02fba7d6f82"
  },
  {
   "cell_type": "markdown",
   "source": [
    "Once the configuration is done, let's try out the connection to our Qdrant instance."
   ],
   "metadata": {
    "collapsed": false
   },
   "id": "723c1f816d7e4338"
  },
  {
   "cell_type": "code",
   "outputs": [],
   "source": [
    "from dotenv import load_dotenv\n",
    "\n",
    "load_dotenv()"
   ],
   "metadata": {
    "collapsed": false
   },
   "id": "ead15566e447c4cf",
   "execution_count": null
  },
  {
   "cell_type": "code",
   "outputs": [],
   "source": [
    "from qdrant_client import QdrantClient\n",
    "\n",
    "import os\n",
    "\n",
    "client = QdrantClient(\n",
    "    os.environ.get(\"QDRANT_URL\"), \n",
    "    api_key=os.environ.get(\"QDRANT_API_KEY\"),\n",
    ")\n",
    "client.get_collections()"
   ],
   "metadata": {
    "collapsed": false
   },
   "id": "805f9acbec609491",
   "execution_count": null
  },
  {
   "cell_type": "markdown",
   "source": [
    "## Data import\n",
    "\n",
    "RAG obviously needs data to work with. There are various challenges to overcome while indexing the documents, such as the chunking strategy. Another thing is creating the embeddings, which is usually a bottleneck of each system. Since this workshop is not about indexing, we're going to load the Qdrant collection from the snapshots I prepared beforehand."
   ],
   "metadata": {
    "collapsed": false
   },
   "id": "1dc936dbdc03cc6c"
  },
  {
   "cell_type": "code",
   "outputs": [],
   "source": [
    "client.recover_snapshot(\n",
    "    collection_name=\"hacker-news\",\n",
    "    # please do not modify the URL below\n",
    "    location=\"https://snapshots.qdrant.io/workshop-rag-optimization/hacker-news-8895643013517159-2024-02-20-21-56-46.snapshot\",\n",
    "    wait=False, # loading a snapshot may take some time, so let's avoid a timeout\n",
    ")"
   ],
   "metadata": {
    "collapsed": false
   },
   "id": "ef095c28cf9bbc92",
   "execution_count": null
  },
  {
   "cell_type": "code",
   "outputs": [],
   "source": [
    "import time\n",
    "\n",
    "while True:\n",
    "    collections = client.get_collections()\n",
    "    if len(collections.collections) >= 1:\n",
    "        break\n",
    "    time.sleep(1.0)\n",
    "\n",
    "collections"
   ],
   "metadata": {
    "collapsed": false
   },
   "id": "c830bea3a55a87ba",
   "execution_count": null
  },
  {
   "cell_type": "markdown",
   "source": [
    "For now, we're going to use a single collection, but once we get to the hybrid search, there'll be another one required. Let's already import it, so we don't need to worry again."
   ],
   "metadata": {
    "collapsed": false
   },
   "id": "59b5c121411da1ac"
  },
  {
   "cell_type": "code",
   "outputs": [],
   "source": [
    "client.recover_snapshot(\n",
    "    collection_name=\"hacker-news-hybrid\",\n",
    "    location=\"https://snapshots.qdrant.io/workshop-rag-optimization/hacker-news-hybrid-8895643013517159-2024-02-20-21-56-54.snapshot\",\n",
    "    wait=False,\n",
    ")"
   ],
   "metadata": {
    "collapsed": false
   },
   "id": "99a33b63e3c98195",
   "execution_count": null
  },
  {
   "cell_type": "code",
   "outputs": [],
   "source": [
    "while True:\n",
    "    collections = client.get_collections()\n",
    "    if len(collections.collections) >= 2:\n",
    "        break\n",
    "    time.sleep(1.0)\n",
    "\n",
    "collections"
   ],
   "metadata": {
    "collapsed": false
   },
   "id": "5aa32c7643d30b1d",
   "execution_count": null
  },
  {
   "cell_type": "code",
   "outputs": [],
   "source": [],
   "metadata": {
    "collapsed": false
   },
   "id": "ac78980080f7cfaa"
  }
 ],
 "metadata": {
  "kernelspec": {
   "display_name": "Python 3",
   "language": "python",
   "name": "python3"
  },
  "language_info": {
   "codemirror_mode": {
    "name": "ipython",
    "version": 2
   },
   "file_extension": ".py",
   "mimetype": "text/x-python",
   "name": "python",
   "nbconvert_exporter": "python",
   "pygments_lexer": "ipython2",
   "version": "2.7.6"
  }
 },
 "nbformat": 4,
 "nbformat_minor": 5
}
